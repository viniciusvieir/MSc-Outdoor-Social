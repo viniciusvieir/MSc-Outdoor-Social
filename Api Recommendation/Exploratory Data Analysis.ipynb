{
 "cells": [
  {
   "cell_type": "code",
   "execution_count": 1,
   "metadata": {},
   "outputs": [],
   "source": [
    "%matplotlib inline\n",
    "import pandas as pd\n",
    "import numpy as np\n",
    "import random\n",
    "import seaborn as sns\n",
    "import matplotlib.pyplot as plt\n",
    "from datetime import datetime\n",
    "import warnings\n",
    "warnings.filterwarnings('ignore')\n"
   ]
  },
  {
   "cell_type": "code",
   "execution_count": 6,
   "metadata": {},
   "outputs": [],
   "source": [
    "users=pd.read_csv(r'C:\\Users\\Shubham Jagtap\\Downloads\\User_rating_final_1K_users.csv')\n",
    "trails=pd.read_excel(r'C:\\Users\\Shubham Jagtap\\Downloads\\All trail (Complete).xlsx')"
   ]
  },
  {
   "cell_type": "code",
   "execution_count": 7,
   "metadata": {},
   "outputs": [],
   "source": [
    "df = pd.merge(users, trails, on='Trail_id' , how='left')"
   ]
  },
  {
   "cell_type": "code",
   "execution_count": 8,
   "metadata": {},
   "outputs": [
    {
     "data": {
      "text/html": [
       "<div>\n",
       "<style scoped>\n",
       "    .dataframe tbody tr th:only-of-type {\n",
       "        vertical-align: middle;\n",
       "    }\n",
       "\n",
       "    .dataframe tbody tr th {\n",
       "        vertical-align: top;\n",
       "    }\n",
       "\n",
       "    .dataframe thead th {\n",
       "        text-align: right;\n",
       "    }\n",
       "</style>\n",
       "<table border=\"1\" class=\"dataframe\">\n",
       "  <thead>\n",
       "    <tr style=\"text-align: right;\">\n",
       "      <th></th>\n",
       "      <th>userID</th>\n",
       "      <th>Trail_id</th>\n",
       "      <th>rating</th>\n",
       "      <th>timestamp</th>\n",
       "      <th>Name</th>\n",
       "      <th>Location</th>\n",
       "      <th>Eleivation_Gain</th>\n",
       "      <th>AVG_Rating</th>\n",
       "      <th>estimateTime</th>\n",
       "      <th>Description</th>\n",
       "      <th>...</th>\n",
       "      <th>Activity Type 6</th>\n",
       "      <th>Activity Type 7</th>\n",
       "      <th>Activity Type 8</th>\n",
       "      <th>Activity Type 9</th>\n",
       "      <th>Activity Type 10</th>\n",
       "      <th>Activity Type 11</th>\n",
       "      <th>Activity Type 12</th>\n",
       "      <th>Activity Type 13</th>\n",
       "      <th>Activity Type 14</th>\n",
       "      <th>Activity Type 15</th>\n",
       "    </tr>\n",
       "  </thead>\n",
       "  <tbody>\n",
       "    <tr>\n",
       "      <th>0</th>\n",
       "      <td>1</td>\n",
       "      <td>2</td>\n",
       "      <td>3.0</td>\n",
       "      <td>2002-3-10 23:20</td>\n",
       "      <td>Howth Loop Trail</td>\n",
       "      <td>Howth, County Dublin, Ireland</td>\n",
       "      <td>1,459 ft</td>\n",
       "      <td>4.9</td>\n",
       "      <td>5 h 7 m</td>\n",
       "      <td>Enjoy stunning scenery as you follow the cliff...</td>\n",
       "      <td>...</td>\n",
       "      <td>Wildlife</td>\n",
       "      <td>NaN</td>\n",
       "      <td>NaN</td>\n",
       "      <td>NaN</td>\n",
       "      <td>NaN</td>\n",
       "      <td>NaN</td>\n",
       "      <td>NaN</td>\n",
       "      <td>NaN</td>\n",
       "      <td>NaN</td>\n",
       "      <td>NaN</td>\n",
       "    </tr>\n",
       "    <tr>\n",
       "      <th>1</th>\n",
       "      <td>1</td>\n",
       "      <td>29</td>\n",
       "      <td>3.0</td>\n",
       "      <td>18-08-2013 02:05</td>\n",
       "      <td>Gap of Dunloe</td>\n",
       "      <td>Killarney National Park</td>\n",
       "      <td>1208 ft</td>\n",
       "      <td>3.6</td>\n",
       "      <td>7 h 9 m</td>\n",
       "      <td>This is simply a must do for anybody in Kerry ...</td>\n",
       "      <td>...</td>\n",
       "      <td>Paved</td>\n",
       "      <td>River</td>\n",
       "      <td>Views</td>\n",
       "      <td>Wildlife</td>\n",
       "      <td>Wildflowers</td>\n",
       "      <td>NaN</td>\n",
       "      <td>NaN</td>\n",
       "      <td>NaN</td>\n",
       "      <td>NaN</td>\n",
       "      <td>NaN</td>\n",
       "    </tr>\n",
       "    <tr>\n",
       "      <th>2</th>\n",
       "      <td>1</td>\n",
       "      <td>32</td>\n",
       "      <td>4.0</td>\n",
       "      <td>2005-3-6 1:04</td>\n",
       "      <td>Carrauntoohil Loop</td>\n",
       "      <td>Killorglin, County Kerry, Ireland</td>\n",
       "      <td>2072 ft</td>\n",
       "      <td>4.3</td>\n",
       "      <td>5 h 18 m</td>\n",
       "      <td>This is a brilliant hike that offers the oppor...</td>\n",
       "      <td>...</td>\n",
       "      <td>Lake</td>\n",
       "      <td>River</td>\n",
       "      <td>Views</td>\n",
       "      <td>Wildlife</td>\n",
       "      <td>Wildflowers</td>\n",
       "      <td>Rocky</td>\n",
       "      <td>Scramble</td>\n",
       "      <td>No shade</td>\n",
       "      <td>NaN</td>\n",
       "      <td>NaN</td>\n",
       "    </tr>\n",
       "    <tr>\n",
       "      <th>3</th>\n",
       "      <td>1</td>\n",
       "      <td>47</td>\n",
       "      <td>2.0</td>\n",
       "      <td>16-04-1996 09:48</td>\n",
       "      <td>Ballycuggeran Loop</td>\n",
       "      <td>Derrycastle, County Tipperary, Ireland</td>\n",
       "      <td>1222 ft</td>\n",
       "      <td>3.1</td>\n",
       "      <td>2 h 25 m</td>\n",
       "      <td>This walk ascends along forest paths and offer...</td>\n",
       "      <td>...</td>\n",
       "      <td>forest</td>\n",
       "      <td>lake</td>\n",
       "      <td>views</td>\n",
       "      <td>wildlife</td>\n",
       "      <td>wildflowers</td>\n",
       "      <td>NaN</td>\n",
       "      <td>NaN</td>\n",
       "      <td>NaN</td>\n",
       "      <td>NaN</td>\n",
       "      <td>NaN</td>\n",
       "    </tr>\n",
       "    <tr>\n",
       "      <th>4</th>\n",
       "      <td>1</td>\n",
       "      <td>50</td>\n",
       "      <td>3.0</td>\n",
       "      <td>1996-1-12 15:48</td>\n",
       "      <td>Devil's Bit Mountain and Kilduff Mountain</td>\n",
       "      <td>Templemore, County Tipperary, Ireland</td>\n",
       "      <td>1768 ft</td>\n",
       "      <td>4.0</td>\n",
       "      <td>5 h</td>\n",
       "      <td>From the top of Devil's Bit Mountain you will ...</td>\n",
       "      <td>...</td>\n",
       "      <td>forest</td>\n",
       "      <td>views</td>\n",
       "      <td>wildlife</td>\n",
       "      <td>NaN</td>\n",
       "      <td>NaN</td>\n",
       "      <td>NaN</td>\n",
       "      <td>NaN</td>\n",
       "      <td>NaN</td>\n",
       "      <td>NaN</td>\n",
       "      <td>NaN</td>\n",
       "    </tr>\n",
       "  </tbody>\n",
       "</table>\n",
       "<p>5 rows × 29 columns</p>\n",
       "</div>"
      ],
      "text/plain": [
       "   userID  Trail_id  rating         timestamp  \\\n",
       "0       1         2     3.0   2002-3-10 23:20   \n",
       "1       1        29     3.0  18-08-2013 02:05   \n",
       "2       1        32     4.0     2005-3-6 1:04   \n",
       "3       1        47     2.0  16-04-1996 09:48   \n",
       "4       1        50     3.0   1996-1-12 15:48   \n",
       "\n",
       "                                        Name  \\\n",
       "0                           Howth Loop Trail   \n",
       "1                              Gap of Dunloe   \n",
       "2                         Carrauntoohil Loop   \n",
       "3                         Ballycuggeran Loop   \n",
       "4  Devil's Bit Mountain and Kilduff Mountain   \n",
       "\n",
       "                                 Location Eleivation_Gain  AVG_Rating  \\\n",
       "0           Howth, County Dublin, Ireland        1,459 ft         4.9   \n",
       "1                 Killarney National Park         1208 ft         3.6   \n",
       "2       Killorglin, County Kerry, Ireland         2072 ft         4.3   \n",
       "3  Derrycastle, County Tipperary, Ireland         1222 ft         3.1   \n",
       "4   Templemore, County Tipperary, Ireland         1768 ft         4.0   \n",
       "\n",
       "  estimateTime                                        Description  ...  \\\n",
       "0      5 h 7 m  Enjoy stunning scenery as you follow the cliff...  ...   \n",
       "1      7 h 9 m  This is simply a must do for anybody in Kerry ...  ...   \n",
       "2     5 h 18 m  This is a brilliant hike that offers the oppor...  ...   \n",
       "3     2 h 25 m  This walk ascends along forest paths and offer...  ...   \n",
       "4          5 h  From the top of Devil's Bit Mountain you will ...  ...   \n",
       "\n",
       "  Activity Type 6 Activity Type 7 Activity Type 8 Activity Type 9  \\\n",
       "0        Wildlife             NaN             NaN             NaN   \n",
       "1           Paved           River           Views        Wildlife   \n",
       "2            Lake           River           Views        Wildlife   \n",
       "3          forest            lake           views        wildlife   \n",
       "4          forest           views        wildlife             NaN   \n",
       "\n",
       "  Activity Type 10 Activity Type 11 Activity Type 12 Activity Type 13  \\\n",
       "0              NaN              NaN              NaN              NaN   \n",
       "1      Wildflowers              NaN              NaN              NaN   \n",
       "2      Wildflowers            Rocky         Scramble         No shade   \n",
       "3      wildflowers              NaN              NaN              NaN   \n",
       "4              NaN              NaN              NaN              NaN   \n",
       "\n",
       "  Activity Type 14 Activity Type 15  \n",
       "0              NaN              NaN  \n",
       "1              NaN              NaN  \n",
       "2              NaN              NaN  \n",
       "3              NaN              NaN  \n",
       "4              NaN              NaN  \n",
       "\n",
       "[5 rows x 29 columns]"
      ]
     },
     "execution_count": 8,
     "metadata": {},
     "output_type": "execute_result"
    }
   ],
   "source": [
    "df.head()"
   ]
  },
  {
   "cell_type": "code",
   "execution_count": 17,
   "metadata": {},
   "outputs": [],
   "source": [
    "df['timestamp'] = pd.to_numeric(df['timestamp'], errors='coerce').fillna(0).astype(np.int64)\n",
    "#df['timestamp']= df['timestamp'].apply(datetime.fromtimestamp)"
   ]
  },
  {
   "cell_type": "code",
   "execution_count": 18,
   "metadata": {},
   "outputs": [],
   "source": [
    "df['timestamp']= df['timestamp'].apply(datetime.fromtimestamp)"
   ]
  },
  {
   "cell_type": "code",
   "execution_count": 20,
   "metadata": {},
   "outputs": [],
   "source": [
    "df['year'] = df['timestamp'].dt.year\n",
    "df['month'] = df['timestamp'].dt.month\n",
    "df['date'] = df['timestamp'].dt.date\n",
    "df = df.sort_values('timestamp').reset_index(drop=True)"
   ]
  },
  {
   "cell_type": "code",
   "execution_count": 21,
   "metadata": {},
   "outputs": [
    {
     "data": {
      "text/html": [
       "<div>\n",
       "<style scoped>\n",
       "    .dataframe tbody tr th:only-of-type {\n",
       "        vertical-align: middle;\n",
       "    }\n",
       "\n",
       "    .dataframe tbody tr th {\n",
       "        vertical-align: top;\n",
       "    }\n",
       "\n",
       "    .dataframe thead th {\n",
       "        text-align: right;\n",
       "    }\n",
       "</style>\n",
       "<table border=\"1\" class=\"dataframe\">\n",
       "  <thead>\n",
       "    <tr style=\"text-align: right;\">\n",
       "      <th></th>\n",
       "      <th>userID</th>\n",
       "      <th>Trail_id</th>\n",
       "      <th>rating</th>\n",
       "      <th>timestamp</th>\n",
       "      <th>Name</th>\n",
       "      <th>Location</th>\n",
       "      <th>Eleivation_Gain</th>\n",
       "      <th>AVG_Rating</th>\n",
       "      <th>estimateTime</th>\n",
       "      <th>Description</th>\n",
       "      <th>...</th>\n",
       "      <th>Activity Type 9</th>\n",
       "      <th>Activity Type 10</th>\n",
       "      <th>Activity Type 11</th>\n",
       "      <th>Activity Type 12</th>\n",
       "      <th>Activity Type 13</th>\n",
       "      <th>Activity Type 14</th>\n",
       "      <th>Activity Type 15</th>\n",
       "      <th>year</th>\n",
       "      <th>month</th>\n",
       "      <th>date</th>\n",
       "    </tr>\n",
       "  </thead>\n",
       "  <tbody>\n",
       "    <tr>\n",
       "      <th>0</th>\n",
       "      <td>1</td>\n",
       "      <td>2</td>\n",
       "      <td>3.0</td>\n",
       "      <td>1970-01-01</td>\n",
       "      <td>Howth Loop Trail</td>\n",
       "      <td>Howth, County Dublin, Ireland</td>\n",
       "      <td>1,459 ft</td>\n",
       "      <td>4.9</td>\n",
       "      <td>5 h 7 m</td>\n",
       "      <td>Enjoy stunning scenery as you follow the cliff...</td>\n",
       "      <td>...</td>\n",
       "      <td>NaN</td>\n",
       "      <td>NaN</td>\n",
       "      <td>NaN</td>\n",
       "      <td>NaN</td>\n",
       "      <td>NaN</td>\n",
       "      <td>NaN</td>\n",
       "      <td>NaN</td>\n",
       "      <td>1970</td>\n",
       "      <td>1</td>\n",
       "      <td>1970-01-01</td>\n",
       "    </tr>\n",
       "    <tr>\n",
       "      <th>1</th>\n",
       "      <td>679</td>\n",
       "      <td>2</td>\n",
       "      <td>3.0</td>\n",
       "      <td>1970-01-01</td>\n",
       "      <td>Howth Loop Trail</td>\n",
       "      <td>Howth, County Dublin, Ireland</td>\n",
       "      <td>1,459 ft</td>\n",
       "      <td>4.9</td>\n",
       "      <td>5 h 7 m</td>\n",
       "      <td>Enjoy stunning scenery as you follow the cliff...</td>\n",
       "      <td>...</td>\n",
       "      <td>NaN</td>\n",
       "      <td>NaN</td>\n",
       "      <td>NaN</td>\n",
       "      <td>NaN</td>\n",
       "      <td>NaN</td>\n",
       "      <td>NaN</td>\n",
       "      <td>NaN</td>\n",
       "      <td>1970</td>\n",
       "      <td>1</td>\n",
       "      <td>1970-01-01</td>\n",
       "    </tr>\n",
       "    <tr>\n",
       "      <th>2</th>\n",
       "      <td>678</td>\n",
       "      <td>700</td>\n",
       "      <td>4.5</td>\n",
       "      <td>1970-01-01</td>\n",
       "      <td>Round Beltra Lake</td>\n",
       "      <td>Newport, County Mayo, Ireland</td>\n",
       "      <td>1383 ft</td>\n",
       "      <td>3.7</td>\n",
       "      <td>36 m</td>\n",
       "      <td>Round Beltra Lake is a 19.0 kilometer loop tra...</td>\n",
       "      <td>...</td>\n",
       "      <td>NaN</td>\n",
       "      <td>NaN</td>\n",
       "      <td>NaN</td>\n",
       "      <td>NaN</td>\n",
       "      <td>NaN</td>\n",
       "      <td>NaN</td>\n",
       "      <td>NaN</td>\n",
       "      <td>1970</td>\n",
       "      <td>1</td>\n",
       "      <td>1970-01-01</td>\n",
       "    </tr>\n",
       "    <tr>\n",
       "      <th>3</th>\n",
       "      <td>678</td>\n",
       "      <td>662</td>\n",
       "      <td>3.0</td>\n",
       "      <td>1970-01-01</td>\n",
       "      <td>Ravensdale Forest Short Circular</td>\n",
       "      <td>Ravensdale Forest</td>\n",
       "      <td>1960 ft</td>\n",
       "      <td>3.3</td>\n",
       "      <td>37 m</td>\n",
       "      <td>Ravensdale Forest Circular is a 5.9 mile loop ...</td>\n",
       "      <td>...</td>\n",
       "      <td>NaN</td>\n",
       "      <td>NaN</td>\n",
       "      <td>NaN</td>\n",
       "      <td>NaN</td>\n",
       "      <td>NaN</td>\n",
       "      <td>NaN</td>\n",
       "      <td>NaN</td>\n",
       "      <td>1970</td>\n",
       "      <td>1</td>\n",
       "      <td>1970-01-01</td>\n",
       "    </tr>\n",
       "    <tr>\n",
       "      <th>4</th>\n",
       "      <td>678</td>\n",
       "      <td>628</td>\n",
       "      <td>4.0</td>\n",
       "      <td>1970-01-01</td>\n",
       "      <td>Tomaneena Tmn via R Road</td>\n",
       "      <td>Wicklow Mountains National Park</td>\n",
       "      <td>1009 ft</td>\n",
       "      <td>3.4</td>\n",
       "      <td>1 h 11 m</td>\n",
       "      <td>Tomaneena Tmn via R756 Road is a 1.7 mile poin...</td>\n",
       "      <td>...</td>\n",
       "      <td>NaN</td>\n",
       "      <td>NaN</td>\n",
       "      <td>NaN</td>\n",
       "      <td>NaN</td>\n",
       "      <td>NaN</td>\n",
       "      <td>NaN</td>\n",
       "      <td>NaN</td>\n",
       "      <td>1970</td>\n",
       "      <td>1</td>\n",
       "      <td>1970-01-01</td>\n",
       "    </tr>\n",
       "  </tbody>\n",
       "</table>\n",
       "<p>5 rows × 32 columns</p>\n",
       "</div>"
      ],
      "text/plain": [
       "   userID  Trail_id  rating  timestamp                              Name  \\\n",
       "0       1         2     3.0 1970-01-01                  Howth Loop Trail   \n",
       "1     679         2     3.0 1970-01-01                  Howth Loop Trail   \n",
       "2     678       700     4.5 1970-01-01                 Round Beltra Lake   \n",
       "3     678       662     3.0 1970-01-01  Ravensdale Forest Short Circular   \n",
       "4     678       628     4.0 1970-01-01          Tomaneena Tmn via R Road   \n",
       "\n",
       "                          Location Eleivation_Gain  AVG_Rating estimateTime  \\\n",
       "0    Howth, County Dublin, Ireland        1,459 ft         4.9      5 h 7 m   \n",
       "1    Howth, County Dublin, Ireland        1,459 ft         4.9      5 h 7 m   \n",
       "2    Newport, County Mayo, Ireland         1383 ft         3.7         36 m   \n",
       "3                Ravensdale Forest         1960 ft         3.3         37 m   \n",
       "4  Wicklow Mountains National Park         1009 ft         3.4     1 h 11 m   \n",
       "\n",
       "                                         Description  ... Activity Type 9  \\\n",
       "0  Enjoy stunning scenery as you follow the cliff...  ...             NaN   \n",
       "1  Enjoy stunning scenery as you follow the cliff...  ...             NaN   \n",
       "2  Round Beltra Lake is a 19.0 kilometer loop tra...  ...             NaN   \n",
       "3  Ravensdale Forest Circular is a 5.9 mile loop ...  ...             NaN   \n",
       "4  Tomaneena Tmn via R756 Road is a 1.7 mile poin...  ...             NaN   \n",
       "\n",
       "  Activity Type 10 Activity Type 11 Activity Type 12 Activity Type 13  \\\n",
       "0              NaN              NaN              NaN              NaN   \n",
       "1              NaN              NaN              NaN              NaN   \n",
       "2              NaN              NaN              NaN              NaN   \n",
       "3              NaN              NaN              NaN              NaN   \n",
       "4              NaN              NaN              NaN              NaN   \n",
       "\n",
       "  Activity Type 14 Activity Type 15  year month        date  \n",
       "0              NaN              NaN  1970     1  1970-01-01  \n",
       "1              NaN              NaN  1970     1  1970-01-01  \n",
       "2              NaN              NaN  1970     1  1970-01-01  \n",
       "3              NaN              NaN  1970     1  1970-01-01  \n",
       "4              NaN              NaN  1970     1  1970-01-01  \n",
       "\n",
       "[5 rows x 32 columns]"
      ]
     },
     "execution_count": 21,
     "metadata": {},
     "output_type": "execute_result"
    }
   ],
   "source": [
    "df.head()"
   ]
  },
  {
   "cell_type": "code",
   "execution_count": 24,
   "metadata": {},
   "outputs": [
    {
     "name": "stdout",
     "output_type": "stream",
     "text": [
      "Years: [1970]\n",
      "Months [1]\n",
      "#Unique users: 994\n",
      "#Unique trails: 648\n",
      "Unique ratings: [3.  4.5 4.  3.5 5.  2.  2.5 1.  1.5 0.5]\n",
      "Average rating: 3.51\n",
      "Frequency of each rating value:\n",
      "3.0    9362\n",
      "4.0    9317\n",
      "5.0    5341\n",
      "2.0    2512\n",
      "3.5    2147\n",
      "4.5    1433\n",
      "1.0    1178\n",
      "2.5     933\n",
      "1.5     307\n",
      "0.5     257\n",
      "Name: rating, dtype: int64\n"
     ]
    }
   ],
   "source": [
    "print('Years:', df.year.unique())\n",
    "print('Months', df.month.unique())\n",
    "print('#Unique users:', df.userID.nunique())\n",
    "print('#Unique trails:', df.Trail_id.nunique())\n",
    "print('Unique ratings:', df.rating.unique())\n",
    "print('Average rating:', round(df.rating.mean(), 2))\n",
    "print('Frequency of each rating value:')\n",
    "print(df['rating'].value_counts())\n"
   ]
  },
  {
   "cell_type": "markdown",
   "metadata": {},
   "source": [
    "We can see that data is in the year: January 1970 \n",
    "There are 994 unique users rated 648 trails in total.\n",
    "The rating values are ranging from 0.5 to 4.5 The average rating is around 3.5 and most frequent rating value is 5.\n",
    "\n",
    "Now, let's see how the number of ratings for each year.\n"
   ]
  },
  {
   "cell_type": "code",
   "execution_count": 25,
   "metadata": {},
   "outputs": [
    {
     "data": {
      "image/png": "[encoded data removed]",
      "text/plain": [
       "<Figure size 720x360 with 1 Axes>"
      ]
     },
     "metadata": {
      "needs_background": "light"
     },
     "output_type": "display_data"
    }
   ],
   "source": [
    "df[['year', 'rating']].groupby(['year']).count().reset_index().plot.bar(x='year', y='rating', title='Number of ratings per year', figsize=(10, 5));"
   ]
  },
  {
   "cell_type": "code",
   "execution_count": 26,
   "metadata": {},
   "outputs": [
    {
     "data": {
      "image/png": "[encoded data removed]",
      "text/plain": [
       "<Figure size 720x360 with 1 Axes>"
      ]
     },
     "metadata": {
      "needs_background": "light"
     },
     "output_type": "display_data"
    }
   ],
   "source": [
    "df_temp = df[['month', 'rating']].groupby(['month']).count().reset_index()\n",
    "df_temp['rating'] = df_temp['rating'] / 4\n",
    "df_temp.plot.bar(x='month', y='rating', title='Average number of ratings per month', figsize=(10, 5));\n"
   ]
  },
  {
   "cell_type": "code",
   "execution_count": 27,
   "metadata": {},
   "outputs": [
    {
     "data": {
      "image/png": "[encoded data removed]",
      "text/plain": [
       "<Figure size 720x360 with 1 Axes>"
      ]
     },
     "metadata": {
      "needs_background": "light"
     },
     "output_type": "display_data"
    }
   ],
   "source": [
    "df['rating'].hist(figsize=(10, 5));"
   ]
  },
  {
   "cell_type": "markdown",
   "metadata": {},
   "source": [
    "We can see that most common rating value is 3&4 with an approximate count of 85000k. As we have 32k ratings we can say that around 35% of ratings are of value 3&4 followed by approximately 26% and 21% respectively for 3 and 5. Since we have only one months data available for year 1970, these calculation is not fully accurate. But We can can see that most of the people give rating around 3.5&4.5.\n"
   ]
  },
  {
   "cell_type": "markdown",
   "metadata": {},
   "source": [
    "Now let's focus on the users. We have seen that there are 994 unique users. Let's see top 10 users based on number of ratings."
   ]
  },
  {
   "cell_type": "code",
   "execution_count": 34,
   "metadata": {},
   "outputs": [
    {
     "data": {
      "text/plain": [
       "903    490\n",
       "156    318\n",
       "775    283\n",
       "982    275\n",
       "298    253\n",
       "330    217\n",
       "579    211\n",
       "741    205\n",
       "116    194\n",
       "184    191\n",
       "Name: userID, dtype: int64"
      ]
     },
     "execution_count": 34,
     "metadata": {},
     "output_type": "execute_result"
    }
   ],
   "source": [
    "df['userID'].value_counts().nlargest(n=10)"
   ]
  },
  {
   "cell_type": "code",
   "execution_count": 36,
   "metadata": {},
   "outputs": [
    {
     "data": {
      "text/plain": [
       "pandas.core.series.Series"
      ]
     },
     "execution_count": 36,
     "metadata": {},
     "output_type": "execute_result"
    }
   ],
   "source": [
    "type(df['userID'].value_counts())"
   ]
  },
  {
   "cell_type": "code",
   "execution_count": 37,
   "metadata": {},
   "outputs": [
    {
     "data": {
      "image/png": "[encoded data removed]",
      "text/plain": [
       "<Figure size 720x360 with 1 Axes>"
      ]
     },
     "metadata": {
      "needs_background": "light"
     },
     "output_type": "display_data"
    }
   ],
   "source": [
    "df['userID'].value_counts().plot.box(figsize=(10, 5));"
   ]
  },
  {
   "cell_type": "markdown",
   "metadata": {},
   "source": [
    "We can see that median is around 50. We can users with number of reviews more than extreme value(approximately 100)."
   ]
  },
  {
   "cell_type": "code",
   "execution_count": 38,
   "metadata": {},
   "outputs": [
    {
     "data": {
      "image/png": "[encoded data removed]",
      "text/plain": [
       "<Figure size 720x360 with 1 Axes>"
      ]
     },
     "metadata": {
      "needs_background": "light"
     },
     "output_type": "display_data"
    }
   ],
   "source": [
    "df['userID'].value_counts().hist(figsize=(10, 5));"
   ]
  },
  {
   "cell_type": "markdown",
   "metadata": {},
   "source": [
    "From the histogram we can observe that most of the people(around 799) are having number of reviews in the range of 1 to 50. Around 200 people are having 50-180 reviews. 50-300(approximate) people are having more than 150 reviews."
   ]
  },
  {
   "cell_type": "markdown",
   "metadata": {},
   "source": [
    "Let's see top 10 trails based on number of reviews."
   ]
  },
  {
   "cell_type": "code",
   "execution_count": 40,
   "metadata": {},
   "outputs": [
    {
     "data": {
      "text/plain": [
       "296    498\n",
       "356    488\n",
       "593    446\n",
       "318    442\n",
       "480    425\n",
       "110    387\n",
       "260    379\n",
       "589    368\n",
       "527    367\n",
       "457    336\n",
       "Name: Trail_id, dtype: int64"
      ]
     },
     "execution_count": 40,
     "metadata": {},
     "output_type": "execute_result"
    }
   ],
   "source": [
    "df['Trail_id'].value_counts().nlargest(n=10)"
   ]
  },
  {
   "cell_type": "markdown",
   "metadata": {},
   "source": [
    "Traill with id 296 is having more number of reviews. Now let's see the distribution of number of reviews."
   ]
  },
  {
   "cell_type": "code",
   "execution_count": 42,
   "metadata": {},
   "outputs": [
    {
     "data": {
      "image/png": "[encoded data removed]",
      "text/plain": [
       "<Figure size 720x360 with 1 Axes>"
      ]
     },
     "metadata": {
      "needs_background": "light"
     },
     "output_type": "display_data"
    }
   ],
   "source": [
    "df['Trail_id'].value_counts().hist(figsize=(10, 5));"
   ]
  },
  {
   "cell_type": "markdown",
   "metadata": {},
   "source": [
    "We can observe that approximately 500(90%) of trails having number of reviews in the range of 1-50. Rest of the trails are having more than 100(approximate) reviews."
   ]
  },
  {
   "cell_type": "markdown",
   "metadata": {},
   "source": [
    "High Rated Trails"
   ]
  },
  {
   "cell_type": "code",
   "execution_count": 43,
   "metadata": {},
   "outputs": [
    {
     "data": {
      "text/html": [
       "<div>\n",
       "<style scoped>\n",
       "    .dataframe tbody tr th:only-of-type {\n",
       "        vertical-align: middle;\n",
       "    }\n",
       "\n",
       "    .dataframe tbody tr th {\n",
       "        vertical-align: top;\n",
       "    }\n",
       "\n",
       "    .dataframe thead th {\n",
       "        text-align: right;\n",
       "    }\n",
       "</style>\n",
       "<table border=\"1\" class=\"dataframe\">\n",
       "  <thead>\n",
       "    <tr style=\"text-align: right;\">\n",
       "      <th></th>\n",
       "      <th>userID</th>\n",
       "      <th>Trail_id</th>\n",
       "      <th>rating</th>\n",
       "      <th>timestamp</th>\n",
       "      <th>Name</th>\n",
       "      <th>Location</th>\n",
       "      <th>Eleivation_Gain</th>\n",
       "      <th>AVG_Rating</th>\n",
       "      <th>estimateTime</th>\n",
       "      <th>Description</th>\n",
       "      <th>...</th>\n",
       "      <th>Activity Type 9</th>\n",
       "      <th>Activity Type 10</th>\n",
       "      <th>Activity Type 11</th>\n",
       "      <th>Activity Type 12</th>\n",
       "      <th>Activity Type 13</th>\n",
       "      <th>Activity Type 14</th>\n",
       "      <th>Activity Type 15</th>\n",
       "      <th>year</th>\n",
       "      <th>month</th>\n",
       "      <th>date</th>\n",
       "    </tr>\n",
       "  </thead>\n",
       "  <tbody>\n",
       "    <tr>\n",
       "      <th>2</th>\n",
       "      <td>678</td>\n",
       "      <td>700</td>\n",
       "      <td>4.5</td>\n",
       "      <td>1970-01-01</td>\n",
       "      <td>Round Beltra Lake</td>\n",
       "      <td>Newport, County Mayo, Ireland</td>\n",
       "      <td>1383 ft</td>\n",
       "      <td>3.7</td>\n",
       "      <td>36 m</td>\n",
       "      <td>Round Beltra Lake is a 19.0 kilometer loop tra...</td>\n",
       "      <td>...</td>\n",
       "      <td>NaN</td>\n",
       "      <td>NaN</td>\n",
       "      <td>NaN</td>\n",
       "      <td>NaN</td>\n",
       "      <td>NaN</td>\n",
       "      <td>NaN</td>\n",
       "      <td>NaN</td>\n",
       "      <td>1970</td>\n",
       "      <td>1</td>\n",
       "      <td>1970-01-01</td>\n",
       "    </tr>\n",
       "    <tr>\n",
       "      <th>15</th>\n",
       "      <td>678</td>\n",
       "      <td>529</td>\n",
       "      <td>5.0</td>\n",
       "      <td>1970-01-01</td>\n",
       "      <td>Foil Dearg Loop</td>\n",
       "      <td>Ballyporeen, County Tipperary, Ireland</td>\n",
       "      <td>2547 ft</td>\n",
       "      <td>4.9</td>\n",
       "      <td>4 h 6 m</td>\n",
       "      <td>Shortly after leaving your starting point, you...</td>\n",
       "      <td>...</td>\n",
       "      <td>NaN</td>\n",
       "      <td>NaN</td>\n",
       "      <td>NaN</td>\n",
       "      <td>NaN</td>\n",
       "      <td>NaN</td>\n",
       "      <td>NaN</td>\n",
       "      <td>NaN</td>\n",
       "      <td>1970</td>\n",
       "      <td>1</td>\n",
       "      <td>1970-01-01</td>\n",
       "    </tr>\n",
       "    <tr>\n",
       "      <th>32</th>\n",
       "      <td>679</td>\n",
       "      <td>17</td>\n",
       "      <td>5.0</td>\n",
       "      <td>1970-01-01</td>\n",
       "      <td>Carrauntoohil via Coomloughra Horseshoe</td>\n",
       "      <td>Killarney National Park</td>\n",
       "      <td>3,553 ft</td>\n",
       "      <td>4.9</td>\n",
       "      <td>5 h 38 m</td>\n",
       "      <td>This incredible hike has a bit of everything: ...</td>\n",
       "      <td>...</td>\n",
       "      <td>wildlife</td>\n",
       "      <td>no shade</td>\n",
       "      <td>NaN</td>\n",
       "      <td>NaN</td>\n",
       "      <td>NaN</td>\n",
       "      <td>NaN</td>\n",
       "      <td>NaN</td>\n",
       "      <td>1970</td>\n",
       "      <td>1</td>\n",
       "      <td>1970-01-01</td>\n",
       "    </tr>\n",
       "    <tr>\n",
       "      <th>33</th>\n",
       "      <td>681</td>\n",
       "      <td>79</td>\n",
       "      <td>4.5</td>\n",
       "      <td>1970-01-01</td>\n",
       "      <td>Inchavore Valley to Lough Dan</td>\n",
       "      <td>Wicklow Mountains National Park</td>\n",
       "      <td>858 ft</td>\n",
       "      <td>4.1</td>\n",
       "      <td>3 h</td>\n",
       "      <td>This is a relatively straightforward semi-loop...</td>\n",
       "      <td>...</td>\n",
       "      <td>NaN</td>\n",
       "      <td>NaN</td>\n",
       "      <td>NaN</td>\n",
       "      <td>NaN</td>\n",
       "      <td>NaN</td>\n",
       "      <td>NaN</td>\n",
       "      <td>NaN</td>\n",
       "      <td>1970</td>\n",
       "      <td>1</td>\n",
       "      <td>1970-01-01</td>\n",
       "    </tr>\n",
       "    <tr>\n",
       "      <th>39</th>\n",
       "      <td>680</td>\n",
       "      <td>593</td>\n",
       "      <td>5.0</td>\n",
       "      <td>1970-01-01</td>\n",
       "      <td>Brittas Lake Circular</td>\n",
       "      <td>Clonaslee, County Laois, Ireland</td>\n",
       "      <td>231 ft</td>\n",
       "      <td>3.2</td>\n",
       "      <td>1 h 30 m</td>\n",
       "      <td>Beautiful leafy circular walk which includes B...</td>\n",
       "      <td>...</td>\n",
       "      <td>NaN</td>\n",
       "      <td>NaN</td>\n",
       "      <td>NaN</td>\n",
       "      <td>NaN</td>\n",
       "      <td>NaN</td>\n",
       "      <td>NaN</td>\n",
       "      <td>NaN</td>\n",
       "      <td>1970</td>\n",
       "      <td>1</td>\n",
       "      <td>1970-01-01</td>\n",
       "    </tr>\n",
       "    <tr>\n",
       "      <th>49</th>\n",
       "      <td>680</td>\n",
       "      <td>318</td>\n",
       "      <td>5.0</td>\n",
       "      <td>1970-01-01</td>\n",
       "      <td>Dinis Cottage and Meeting of the Waters</td>\n",
       "      <td>Killarney National Park</td>\n",
       "      <td>352 ft</td>\n",
       "      <td>3.3</td>\n",
       "      <td>1 h 4 m</td>\n",
       "      <td>The Meeting of the Waters is situated where th...</td>\n",
       "      <td>...</td>\n",
       "      <td>views</td>\n",
       "      <td>wildlife</td>\n",
       "      <td>wildflowers</td>\n",
       "      <td>no dogs</td>\n",
       "      <td>NaN</td>\n",
       "      <td>NaN</td>\n",
       "      <td>NaN</td>\n",
       "      <td>1970</td>\n",
       "      <td>1</td>\n",
       "      <td>1970-01-01</td>\n",
       "    </tr>\n",
       "    <tr>\n",
       "      <th>50</th>\n",
       "      <td>680</td>\n",
       "      <td>303</td>\n",
       "      <td>5.0</td>\n",
       "      <td>1970-01-01</td>\n",
       "      <td>Dromore Wood Loop</td>\n",
       "      <td>Dromore Wood</td>\n",
       "      <td>2219 ft</td>\n",
       "      <td>3.6</td>\n",
       "      <td>1 h 59 m</td>\n",
       "      <td>This is a nice, flat forest trail with great l...</td>\n",
       "      <td>...</td>\n",
       "      <td>views</td>\n",
       "      <td>wildlife</td>\n",
       "      <td>wildflowwer</td>\n",
       "      <td>NaN</td>\n",
       "      <td>NaN</td>\n",
       "      <td>NaN</td>\n",
       "      <td>NaN</td>\n",
       "      <td>1970</td>\n",
       "      <td>1</td>\n",
       "      <td>1970-01-01</td>\n",
       "    </tr>\n",
       "    <tr>\n",
       "      <th>55</th>\n",
       "      <td>679</td>\n",
       "      <td>616</td>\n",
       "      <td>5.0</td>\n",
       "      <td>1970-01-01</td>\n",
       "      <td>Gweedore Station to Dunlewey Centre</td>\n",
       "      <td>Machaire Chlochair, County Donegal, Ireland</td>\n",
       "      <td>591 ft</td>\n",
       "      <td>3.5</td>\n",
       "      <td>5 h 7 m</td>\n",
       "      <td>Gweedore Station to Dunlewey Centre is a 10.3 ...</td>\n",
       "      <td>...</td>\n",
       "      <td>NaN</td>\n",
       "      <td>NaN</td>\n",
       "      <td>NaN</td>\n",
       "      <td>NaN</td>\n",
       "      <td>NaN</td>\n",
       "      <td>NaN</td>\n",
       "      <td>NaN</td>\n",
       "      <td>1970</td>\n",
       "      <td>1</td>\n",
       "      <td>1970-01-01</td>\n",
       "    </tr>\n",
       "    <tr>\n",
       "      <th>64</th>\n",
       "      <td>678</td>\n",
       "      <td>372</td>\n",
       "      <td>5.0</td>\n",
       "      <td>1970-01-01</td>\n",
       "      <td>Rostellan Loop</td>\n",
       "      <td>Whitegate, County Cork, Ireland</td>\n",
       "      <td>1029 ft</td>\n",
       "      <td>3.3</td>\n",
       "      <td>56 m</td>\n",
       "      <td>Rostellan Loop is a 2 mile lightly trafficked ...</td>\n",
       "      <td>...</td>\n",
       "      <td>NaN</td>\n",
       "      <td>NaN</td>\n",
       "      <td>NaN</td>\n",
       "      <td>NaN</td>\n",
       "      <td>NaN</td>\n",
       "      <td>NaN</td>\n",
       "      <td>NaN</td>\n",
       "      <td>1970</td>\n",
       "      <td>1</td>\n",
       "      <td>1970-01-01</td>\n",
       "    </tr>\n",
       "    <tr>\n",
       "      <th>65</th>\n",
       "      <td>678</td>\n",
       "      <td>89</td>\n",
       "      <td>5.0</td>\n",
       "      <td>1970-01-01</td>\n",
       "      <td>Avondale House via Jubilee loop</td>\n",
       "      <td>Rathdrum, County Wicklow, Ireland</td>\n",
       "      <td>2149 ft</td>\n",
       "      <td>4.2</td>\n",
       "      <td>3 h 19 m</td>\n",
       "      <td>This is a lovely forest walk along the river. ...</td>\n",
       "      <td>...</td>\n",
       "      <td>wildflower</td>\n",
       "      <td>wildlife</td>\n",
       "      <td>NaN</td>\n",
       "      <td>NaN</td>\n",
       "      <td>NaN</td>\n",
       "      <td>NaN</td>\n",
       "      <td>NaN</td>\n",
       "      <td>1970</td>\n",
       "      <td>1</td>\n",
       "      <td>1970-01-01</td>\n",
       "    </tr>\n",
       "  </tbody>\n",
       "</table>\n",
       "<p>10 rows × 32 columns</p>\n",
       "</div>"
      ],
      "text/plain": [
       "    userID  Trail_id  rating  timestamp  \\\n",
       "2      678       700     4.5 1970-01-01   \n",
       "15     678       529     5.0 1970-01-01   \n",
       "32     679        17     5.0 1970-01-01   \n",
       "33     681        79     4.5 1970-01-01   \n",
       "39     680       593     5.0 1970-01-01   \n",
       "49     680       318     5.0 1970-01-01   \n",
       "50     680       303     5.0 1970-01-01   \n",
       "55     679       616     5.0 1970-01-01   \n",
       "64     678       372     5.0 1970-01-01   \n",
       "65     678        89     5.0 1970-01-01   \n",
       "\n",
       "                                       Name  \\\n",
       "2                         Round Beltra Lake   \n",
       "15                          Foil Dearg Loop   \n",
       "32  Carrauntoohil via Coomloughra Horseshoe   \n",
       "33            Inchavore Valley to Lough Dan   \n",
       "39                    Brittas Lake Circular   \n",
       "49  Dinis Cottage and Meeting of the Waters   \n",
       "50                        Dromore Wood Loop   \n",
       "55      Gweedore Station to Dunlewey Centre   \n",
       "64                           Rostellan Loop   \n",
       "65          Avondale House via Jubilee loop   \n",
       "\n",
       "                                       Location Eleivation_Gain  AVG_Rating  \\\n",
       "2                 Newport, County Mayo, Ireland         1383 ft         3.7   \n",
       "15       Ballyporeen, County Tipperary, Ireland         2547 ft         4.9   \n",
       "32                      Killarney National Park        3,553 ft         4.9   \n",
       "33              Wicklow Mountains National Park          858 ft         4.1   \n",
       "39             Clonaslee, County Laois, Ireland          231 ft         3.2   \n",
       "49                      Killarney National Park          352 ft         3.3   \n",
       "50                                 Dromore Wood         2219 ft         3.6   \n",
       "55  Machaire Chlochair, County Donegal, Ireland          591 ft         3.5   \n",
       "64              Whitegate, County Cork, Ireland         1029 ft         3.3   \n",
       "65            Rathdrum, County Wicklow, Ireland         2149 ft         4.2   \n",
       "\n",
       "   estimateTime                                        Description  ...  \\\n",
       "2          36 m  Round Beltra Lake is a 19.0 kilometer loop tra...  ...   \n",
       "15      4 h 6 m  Shortly after leaving your starting point, you...  ...   \n",
       "32     5 h 38 m  This incredible hike has a bit of everything: ...  ...   \n",
       "33          3 h  This is a relatively straightforward semi-loop...  ...   \n",
       "39     1 h 30 m  Beautiful leafy circular walk which includes B...  ...   \n",
       "49      1 h 4 m  The Meeting of the Waters is situated where th...  ...   \n",
       "50     1 h 59 m  This is a nice, flat forest trail with great l...  ...   \n",
       "55      5 h 7 m  Gweedore Station to Dunlewey Centre is a 10.3 ...  ...   \n",
       "64         56 m  Rostellan Loop is a 2 mile lightly trafficked ...  ...   \n",
       "65     3 h 19 m  This is a lovely forest walk along the river. ...  ...   \n",
       "\n",
       "   Activity Type 9 Activity Type 10 Activity Type 11 Activity Type 12  \\\n",
       "2              NaN              NaN              NaN              NaN   \n",
       "15             NaN              NaN              NaN              NaN   \n",
       "32        wildlife         no shade              NaN              NaN   \n",
       "33             NaN              NaN              NaN              NaN   \n",
       "39             NaN              NaN              NaN              NaN   \n",
       "49           views         wildlife      wildflowers          no dogs   \n",
       "50           views         wildlife      wildflowwer              NaN   \n",
       "55             NaN              NaN              NaN              NaN   \n",
       "64             NaN              NaN              NaN              NaN   \n",
       "65      wildflower         wildlife              NaN              NaN   \n",
       "\n",
       "   Activity Type 13 Activity Type 14 Activity Type 15  year month        date  \n",
       "2               NaN              NaN              NaN  1970     1  1970-01-01  \n",
       "15              NaN              NaN              NaN  1970     1  1970-01-01  \n",
       "32              NaN              NaN              NaN  1970     1  1970-01-01  \n",
       "33              NaN              NaN              NaN  1970     1  1970-01-01  \n",
       "39              NaN              NaN              NaN  1970     1  1970-01-01  \n",
       "49              NaN              NaN              NaN  1970     1  1970-01-01  \n",
       "50              NaN              NaN              NaN  1970     1  1970-01-01  \n",
       "55              NaN              NaN              NaN  1970     1  1970-01-01  \n",
       "64              NaN              NaN              NaN  1970     1  1970-01-01  \n",
       "65              NaN              NaN              NaN  1970     1  1970-01-01  \n",
       "\n",
       "[10 rows x 32 columns]"
      ]
     },
     "execution_count": 43,
     "metadata": {},
     "output_type": "execute_result"
    }
   ],
   "source": [
    "\n",
    "high_rated= df['rating']>4.0\n",
    "df[high_rated].head(10)"
   ]
  },
  {
   "cell_type": "code",
   "execution_count": 45,
   "metadata": {},
   "outputs": [
    {
     "data": {
      "text/plain": [
       "Name\n",
       "Castlegale Loop                                              498\n",
       "Glencolumcille Tower Loop                                    488\n",
       "Brittas Lake Circular                                        446\n",
       "Dinis Cottage and Meeting of the Waters                      442\n",
       "Durrow Heritage Walking Tour                                 425\n",
       "Crone Wood to Djouce                                         387\n",
       "May Park Trail                                               379\n",
       "Knockea                                                      368\n",
       "Tibradden to Stepaside                                       367\n",
       "Ranelagh, Phoenix Park, Islandbridge, St. Stephen's Green    336\n",
       "dtype: int64"
      ]
     },
     "execution_count": 45,
     "metadata": {},
     "output_type": "execute_result"
    }
   ],
   "source": [
    "#top 10 most rated Trails\n",
    "trail_rated = df.groupby('Name').size().sort_values(ascending=False)[:10]\n",
    "trail_rated.head(10)"
   ]
  },
  {
   "cell_type": "code",
   "execution_count": 46,
   "metadata": {},
   "outputs": [
    {
     "data": {
      "text/plain": [
       "Name\n",
       "Castlegale Loop                            498\n",
       "Glencolumcille Tower Loop                  488\n",
       "Brittas Lake Circular                      446\n",
       "Dinis Cottage and Meeting of the Waters    442\n",
       "Durrow Heritage Walking Tour               425\n",
       "Name: rating, dtype: int64"
      ]
     },
     "execution_count": 46,
     "metadata": {},
     "output_type": "execute_result"
    }
   ],
   "source": [
    "df.groupby('Name')['rating'].count().sort_values(ascending=False).head()"
   ]
  },
  {
   "cell_type": "code",
   "execution_count": 47,
   "metadata": {},
   "outputs": [],
   "source": [
    "ratings_mean_count = pd.DataFrame(df.groupby('Name')['rating'].mean())"
   ]
  },
  {
   "cell_type": "code",
   "execution_count": 48,
   "metadata": {},
   "outputs": [],
   "source": [
    "ratings_mean_count['rating_counts'] = pd.DataFrame(df.groupby('Name')['rating'].count())"
   ]
  },
  {
   "cell_type": "code",
   "execution_count": 49,
   "metadata": {},
   "outputs": [
    {
     "data": {
      "text/html": [
       "<div>\n",
       "<style scoped>\n",
       "    .dataframe tbody tr th:only-of-type {\n",
       "        vertical-align: middle;\n",
       "    }\n",
       "\n",
       "    .dataframe tbody tr th {\n",
       "        vertical-align: top;\n",
       "    }\n",
       "\n",
       "    .dataframe thead th {\n",
       "        text-align: right;\n",
       "    }\n",
       "</style>\n",
       "<table border=\"1\" class=\"dataframe\">\n",
       "  <thead>\n",
       "    <tr style=\"text-align: right;\">\n",
       "      <th></th>\n",
       "      <th>rating</th>\n",
       "      <th>rating_counts</th>\n",
       "    </tr>\n",
       "    <tr>\n",
       "      <th>Name</th>\n",
       "      <th></th>\n",
       "      <th></th>\n",
       "    </tr>\n",
       "  </thead>\n",
       "  <tbody>\n",
       "    <tr>\n",
       "      <th>Aghla Beg and Aghla More</th>\n",
       "      <td>4.400000</td>\n",
       "      <td>5</td>\n",
       "    </tr>\n",
       "    <tr>\n",
       "      <th>An Cnapan Mor and Croaghskearda Loop</th>\n",
       "      <td>4.142857</td>\n",
       "      <td>7</td>\n",
       "    </tr>\n",
       "    <tr>\n",
       "      <th>Annesgrove Gardens Loop</th>\n",
       "      <td>4.666667</td>\n",
       "      <td>6</td>\n",
       "    </tr>\n",
       "    <tr>\n",
       "      <th>Annestown Stream, Beach and Dunhill Castle</th>\n",
       "      <td>3.435644</td>\n",
       "      <td>101</td>\n",
       "    </tr>\n",
       "    <tr>\n",
       "      <th>Ardmore Cliff Walk</th>\n",
       "      <td>4.642857</td>\n",
       "      <td>7</td>\n",
       "    </tr>\n",
       "  </tbody>\n",
       "</table>\n",
       "</div>"
      ],
      "text/plain": [
       "                                              rating  rating_counts\n",
       "Name                                                               \n",
       "Aghla Beg and Aghla More                    4.400000              5\n",
       "An Cnapan Mor and Croaghskearda Loop        4.142857              7\n",
       "Annesgrove Gardens Loop                     4.666667              6\n",
       "Annestown Stream, Beach and Dunhill Castle  3.435644            101\n",
       "Ardmore Cliff Walk                          4.642857              7"
      ]
     },
     "execution_count": 49,
     "metadata": {},
     "output_type": "execute_result"
    }
   ],
   "source": [
    "ratings_mean_count.head()"
   ]
  },
  {
   "cell_type": "markdown",
   "metadata": {},
   "source": [
    "You can see traill title, along with the average rating and number of ratings for the trail.\n",
    "\n",
    "Let's plot a histogram for the number of ratings represented by the \"rating_counts\" column in the above dataframe."
   ]
  },
  {
   "cell_type": "code",
   "execution_count": 50,
   "metadata": {},
   "outputs": [
    {
     "data": {
      "text/plain": [
       "<AxesSubplot:>"
      ]
     },
     "execution_count": 50,
     "metadata": {},
     "output_type": "execute_result"
    },
    {
     "data": {
      "image/png": "[encoded data removed]",
      "text/plain": [
       "<Figure size 576x432 with 1 Axes>"
      ]
     },
     "metadata": {
      "needs_background": "light"
     },
     "output_type": "display_data"
    }
   ],
   "source": [
    "import matplotlib.pyplot as plt\n",
    "import seaborn as sns\n",
    "sns.set_style('dark')\n",
    "%matplotlib inline\n",
    "\n",
    "plt.figure(figsize=(8,6))\n",
    "plt.rcParams['patch.force_edgecolor'] = True\n",
    "ratings_mean_count['rating_counts'].hist(bins=50)"
   ]
  },
  {
   "cell_type": "markdown",
   "metadata": {},
   "source": [
    "From the output, you can see that most of the trails have received less than 50 ratings. While the number of trails having more than 100 ratings is very low."
   ]
  },
  {
   "cell_type": "markdown",
   "metadata": {},
   "source": [
    "Now we'll plot a histogram for average ratings. Here is the code to do so:"
   ]
  },
  {
   "cell_type": "code",
   "execution_count": 51,
   "metadata": {},
   "outputs": [
    {
     "data": {
      "text/plain": [
       "<AxesSubplot:>"
      ]
     },
     "execution_count": 51,
     "metadata": {},
     "output_type": "execute_result"
    },
    {
     "data": {
      "image/png": "[encoded data removed]",
      "text/plain": [
       "<Figure size 576x432 with 1 Axes>"
      ]
     },
     "metadata": {
      "needs_background": "light"
     },
     "output_type": "display_data"
    }
   ],
   "source": [
    "plt.figure(figsize=(8,6))\n",
    "plt.rcParams['patch.force_edgecolor'] = True\n",
    "ratings_mean_count['rating'].hist(bins=50)"
   ]
  },
  {
   "cell_type": "markdown",
   "metadata": {},
   "source": [
    "we can see that the integer values have taller bars than the floating values since most of the users assign rating as integer value i.e. 1, 2, 3, 4 or 5. Furthermore, it is evident that the data has a weak normal distribution with the mean of around 3.5. There are a few outliers in the data."
   ]
  },
  {
   "cell_type": "code",
   "execution_count": null,
   "metadata": {},
   "outputs": [],
   "source": []
  }
 ],
 "metadata": {
  "kernelspec": {
   "display_name": "Python 3.7 (tensorflow)",
   "language": "python",
   "name": "tensorflow"
  },
  "language_info": {
   "codemirror_mode": {
    "name": "ipython",
    "version": 3
   },
   "file_extension": ".py",
   "mimetype": "text/x-python",
   "name": "python",
   "nbconvert_exporter": "python",
   "pygments_lexer": "ipython3",
   "version": "3.7.9"
  }
 },
 "nbformat": 4,
 "nbformat_minor": 4
}
