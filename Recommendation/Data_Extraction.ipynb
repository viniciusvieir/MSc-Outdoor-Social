{
 "cells": [
  {
   "cell_type": "code",
   "execution_count": 29,
   "metadata": {},
   "outputs": [],
   "source": [
    "import requests\n",
    "import json\n",
    "import xlsxwriter\n",
    " \n",
    "url = \"https://www.mtbproject.com/data/get-trails-by-id?ids=7039121,7029820,7029437,7041290,7041291,7029893,7002853,7003223,7003224,7029891,7003222,7003225,7029894,7041292,7029892,7043935,7030005,7030006&key=200937171-683cf905e0744ba4f7bbbd8f0627e117\"\n",
    " \n",
    "response = requests.get(url)\n",
    "data = response.text\n",
    "parsed = json.loads(data)"
   ]
  },
  {
   "cell_type": "code",
   "execution_count": 2,
   "metadata": {},
   "outputs": [
    {
     "name": "stdout",
     "output_type": "stream",
     "text": [
      "{'trails': [{'id': 7007575, 'name': 'Ireland Lake Trail', 'type': 'Trail', 'summary': 'A very mild 1.5-mile route to reach a spectacular and unique place.', 'difficulty': 'blueBlack', 'stars': 4.5, 'starVotes': 2, 'location': 'Yosemite Valley, California', 'url': 'https://www.trailrunproject.com/trail/7007575/ireland-lake-trail', 'imgSqSmall': 'https://cdn2.apstatic.com/photos/hike/7009151_sqsmall_1554395938.jpg', 'imgSmall': 'https://cdn2.apstatic.com/photos/hike/7009151_small_1554395938.jpg', 'imgSmallMed': 'https://cdn2.apstatic.com/photos/hike/7009151_smallMed_1554395938.jpg', 'imgMedium': 'https://cdn2.apstatic.com/photos/hike/7009151_medium_1554395938.jpg', 'length': 1.6, 'ascent': 381, 'descent': -30, 'high': 10812, 'low': 10431, 'longitude': -119.2994, 'latitude': 37.8124, 'conditionStatus': 'Unknown', 'conditionDetails': None, 'conditionDate': '1970-01-01 00:00:00'}, {'id': 7019238, 'name': 'Craigavon Lakes', 'type': 'Trail', 'summary': 'A trail around the Craigavon Lakes.', 'difficulty': 'green', 'stars': 4, 'starVotes': 1, 'location': 'Craigavon, United Kingdom', 'url': 'https://www.trailrunproject.com/trail/7019238/craigavon-lakes', 'imgSqSmall': '', 'imgSmall': '', 'imgSmallMed': '', 'imgMedium': '', 'length': 3.1, 'ascent': 84, 'descent': -80, 'high': 106, 'low': 69, 'longitude': -6.3834, 'latitude': 54.4499, 'conditionStatus': 'Unknown', 'conditionDetails': None, 'conditionDate': '1970-01-01 00:00:00'}, {'id': 7029957, 'name': 'Howth Summit/Baily Lighthouse Cliff Walk', 'type': 'Trail', 'summary': 'A beautiful cliffside trail outside Dublin in Howth.', 'difficulty': 'blueBlack', 'stars': 4.5, 'starVotes': 4, 'location': 'Howth, Ireland', 'url': 'https://www.trailrunproject.com/trail/7029957/howth-summitbaily-lighthouse-cliff-walk', 'imgSqSmall': '', 'imgSmall': '', 'imgSmallMed': '', 'imgMedium': '', 'length': 0.9, 'ascent': 0, 'descent': -392, 'high': 436, 'low': 44, 'longitude': -6.0546, 'latitude': 53.3709, 'conditionStatus': 'Unknown', 'conditionDetails': None, 'conditionDate': '1970-01-01 00:00:00'}, {'id': 7035642, 'name': 'Blackrock Loop', 'type': 'Trail', 'summary': 'Needs summary and description.', 'difficulty': 'blue', 'stars': 5, 'starVotes': 1, 'location': 'Kilmallock, Ireland', 'url': 'https://www.trailrunproject.com/trail/7035642/blackrock-loop', 'imgSqSmall': '', 'imgSmall': '', 'imgSmallMed': '', 'imgMedium': '', 'length': 6.3, 'ascent': 1287, 'descent': -1190, 'high': 1672, 'low': 717, 'longitude': -8.5036, 'latitude': 52.3177, 'conditionStatus': 'Unknown', 'conditionDetails': None, 'conditionDate': '1970-01-01 00:00:00'}, {'id': 7047180, 'name': 'Bray-Greystones Cliff Walk', 'type': 'Recommended Route', 'summary': 'A well-marked trail along the Irish Sea cliffs between the small towns of Bray and Greystones.', 'difficulty': 'greenBlue', 'stars': 3.7, 'starVotes': 6, 'location': 'Bray, Ireland', 'url': 'https://www.trailrunproject.com/trail/7047180/bray-greystones-cliff-walk', 'imgSqSmall': 'https://cdn2.apstatic.com/photos/hike/7058914_sqsmall_1558366021.jpg', 'imgSmall': 'https://cdn2.apstatic.com/photos/hike/7058914_small_1558366021.jpg', 'imgSmallMed': 'https://cdn2.apstatic.com/photos/hike/7058914_smallMed_1558366021.jpg', 'imgMedium': 'https://cdn2.apstatic.com/photos/hike/7058914_medium_1558366021.jpg', 'length': 4.1, 'ascent': 326, 'descent': -331, 'high': 230, 'low': 0, 'longitude': -6.0917, 'latitude': 53.1962, 'conditionStatus': 'Unknown', 'conditionDetails': None, 'conditionDate': '1970-01-01 00:00:00'}, {'id': 7063360, 'name': 'Sugarloaf Trail', 'type': 'Trail', 'summary': 'Great family run rewarded with panoramic views of Dublin City, County Wicklow, and even Wales on a clear day.', 'difficulty': 'blue', 'stars': 4, 'starVotes': 1, 'location': 'Kilmacanoge, Ireland', 'url': 'https://www.trailrunproject.com/trail/7063360/sugarloaf-trail', 'imgSqSmall': 'https://cdn2.apstatic.com/photos/hike/7053895_sqsmall_1555704369.jpg', 'imgSmall': 'https://cdn2.apstatic.com/photos/hike/7053895_small_1555704369.jpg', 'imgSmallMed': 'https://cdn2.apstatic.com/photos/hike/7053895_smallMed_1555704369.jpg', 'imgMedium': 'https://cdn2.apstatic.com/photos/hike/7053895_medium_1555704369.jpg', 'length': 0.8, 'ascent': 601, 'descent': 0, 'high': 1577, 'low': 976, 'longitude': -6.1546, 'latitude': 53.1444, 'conditionStatus': 'Unknown', 'conditionDetails': None, 'conditionDate': '1970-01-01 00:00:00'}, {'id': 7066541, 'name': 'Harold Ireland', 'type': 'Trail', 'summary': 'Part of a fun singletrack alternative to part of the Sunset Trail.', 'difficulty': 'blue', 'stars': 3, 'starVotes': 1, 'location': 'Piedmont, California', 'url': 'https://www.trailrunproject.com/trail/7066541/harold-ireland', 'imgSqSmall': '', 'imgSmall': '', 'imgSmallMed': '', 'imgMedium': '', 'length': 0.2, 'ascent': 57, 'descent': -39, 'high': 1170, 'low': 1112, 'longitude': -122.1803, 'latitude': 37.8093, 'conditionStatus': 'Unknown', 'conditionDetails': None, 'conditionDate': '1970-01-01 00:00:00'}, {'id': 7074326, 'name': 'Mt Ireland Lookout Trail #1604', 'type': 'Trail', 'summary': 'Needs Summary', 'difficulty': 'black', 'stars': 0, 'starVotes': 0, 'location': 'Baker City, Oregon', 'url': 'https://www.trailrunproject.com/trail/7074326/mt-ireland-lookout-trail-1604', 'imgSqSmall': '', 'imgSmall': '', 'imgSmallMed': '', 'imgMedium': '', 'length': 3.5, 'ascent': 2253, 'descent': -66, 'high': 8252, 'low': 6019, 'longitude': -118.3287, 'latitude': 44.8128, 'conditionStatus': 'Unknown', 'conditionDetails': None, 'conditionDate': '1970-01-01 00:00:00'}, {'id': 7078363, 'name': 'Bunwee Loop Trail', 'type': 'Trail', 'summary': 'Breathtaking coastal loop trail.', 'difficulty': 'black', 'stars': 5, 'starVotes': 1, 'location': 'Belmullet, Ireland', 'url': 'https://www.trailrunproject.com/trail/7078363/bunwee-loop-trail', 'imgSqSmall': '', 'imgSmall': '', 'imgSmallMed': '', 'imgMedium': '', 'length': 7.8, 'ascent': 1242, 'descent': -1235, 'high': 799, 'low': 28, 'longitude': -9.8129, 'latitude': 54.3131, 'conditionStatus': 'Unknown', 'conditionDetails': None, 'conditionDate': '1970-01-01 00:00:00'}, {'id': 7091282, 'name': 'Cross Beach Loop Walk, Erris Peninsula, Co. Mayo', 'type': 'Trail', 'summary': 'Cross Loop trail, where scenery and legend meet!', 'difficulty': 'green', 'stars': 5, 'starVotes': 1, 'location': 'Belmullet, Ireland', 'url': 'https://www.trailrunproject.com/trail/7091282/cross-beach-loop-walk-erris-peninsula-co-mayo', 'imgSqSmall': 'https://cdn2.apstatic.com/photos/hike/7067337_sqsmall_1582547017.jpg', 'imgSmall': 'https://cdn2.apstatic.com/photos/hike/7067337_small_1582547017.jpg', 'imgSmallMed': 'https://cdn2.apstatic.com/photos/hike/7067337_smallMed_1582547017.jpg', 'imgMedium': 'https://cdn2.apstatic.com/photos/hike/7067337_medium_1582547017.jpg', 'length': 3.3, 'ascent': 32, 'descent': -32, 'high': 34, 'low': 8, 'longitude': -10.0803, 'latitude': 54.2091, 'conditionStatus': 'Unknown', 'conditionDetails': None, 'conditionDate': '1970-01-01 00:00:00'}, {'id': 7096285, 'name': 'Ireland Brook/Farrington Lake Connector', 'type': 'Connector', 'summary': '', 'difficulty': 'green', 'stars': 1, 'starVotes': 1, 'location': 'East Brunswick, New Jersey', 'url': 'https://www.trailrunproject.com/trail/7096285/ireland-brookfarrington-lake-connector', 'imgSqSmall': 'https://cdn2.apstatic.com/photos/hike/7072835_sqsmall_1599526733.jpg', 'imgSmall': 'https://cdn2.apstatic.com/photos/hike/7072835_small_1599526733.jpg', 'imgSmallMed': 'https://cdn2.apstatic.com/photos/hike/7072835_smallMed_1599526733.jpg', 'imgMedium': 'https://cdn2.apstatic.com/photos/hike/7072835_medium_1599526733.jpg', 'length': 0.3, 'ascent': 2, 'descent': -15, 'high': 68, 'low': 55, 'longitude': -74.4818, 'latitude': 40.4192, 'conditionStatus': 'Unknown', 'conditionDetails': None, 'conditionDate': '1970-01-01 00:00:00'}], 'success': 1}\n"
     ]
    }
   ],
   "source": [
    "print(parsed)"
   ]
  },
  {
   "cell_type": "code",
   "execution_count": 30,
   "metadata": {},
   "outputs": [
    {
     "name": "stdout",
     "output_type": "stream",
     "text": [
      "<class 'list'>\n"
     ]
    },
    {
     "data": {
      "text/plain": [
       "18"
      ]
     },
     "execution_count": 30,
     "metadata": {},
     "output_type": "execute_result"
    }
   ],
   "source": [
    "type(parsed)\n",
    "dict_val = parsed['trails']\n",
    "print(type(dict_val))\n",
    "len(dict_val)\n",
    "#print(dict_val)"
   ]
  },
  {
   "cell_type": "code",
   "execution_count": 12,
   "metadata": {},
   "outputs": [
    {
     "name": "stdout",
     "output_type": "stream",
     "text": [
      "<class 'dict'>\n",
      "{'id': 7007575, 'name': 'Ireland Lake Trail', 'type': 'Trail', 'summary': 'A very mild 1.5-mile route to reach a spectacular and unique place.', 'difficulty': 'blueBlack', 'stars': 4.5, 'starVotes': 2, 'location': 'Yosemite Valley, California', 'url': 'https://www.trailrunproject.com/trail/7007575/ireland-lake-trail', 'imgSqSmall': 'https://cdn2.apstatic.com/photos/hike/7009151_sqsmall_1554395938.jpg', 'imgSmall': 'https://cdn2.apstatic.com/photos/hike/7009151_small_1554395938.jpg', 'imgSmallMed': 'https://cdn2.apstatic.com/photos/hike/7009151_smallMed_1554395938.jpg', 'imgMedium': 'https://cdn2.apstatic.com/photos/hike/7009151_medium_1554395938.jpg', 'length': 1.6, 'ascent': 381, 'descent': -30, 'high': 10812, 'low': 10431, 'longitude': -119.2994, 'latitude': 37.8124, 'conditionStatus': 'Unknown', 'conditionDetails': None, 'conditionDate': '1970-01-01 00:00:00'}\n"
     ]
    }
   ],
   "source": []
  },
  {
   "cell_type": "code",
   "execution_count": 31,
   "metadata": {},
   "outputs": [
    {
     "name": "stdout",
     "output_type": "stream",
     "text": [
      "<class 'dict'>\n",
      "<class 'dict'>\n",
      "<class 'dict'>\n",
      "<class 'dict'>\n",
      "<class 'dict'>\n",
      "<class 'dict'>\n",
      "<class 'dict'>\n",
      "<class 'dict'>\n",
      "<class 'dict'>\n",
      "<class 'dict'>\n",
      "<class 'dict'>\n",
      "<class 'dict'>\n",
      "<class 'dict'>\n",
      "<class 'dict'>\n",
      "<class 'dict'>\n",
      "<class 'dict'>\n",
      "<class 'dict'>\n",
      "<class 'dict'>\n"
     ]
    }
   ],
   "source": [
    "workbook = xlsxwriter.Workbook('data2.xlsx')\n",
    "worksheet = workbook.add_worksheet()\n",
    "\n",
    "row = 0\n",
    "col = 0\n",
    "\n",
    "for i in range(0,len(dict_val)): \n",
    "    dict_elements = dict_val[i]\n",
    "    print(type(dict_elements))\n",
    "    if (i == 0):\n",
    "        for key in dict_elements.keys():\n",
    "            worksheet.write(row, col, key)\n",
    "            col += 1\n",
    "        row += 1\n",
    "        col = 0\n",
    "        for value in dict_elements.values():\n",
    "            worksheet.write(row, col, value)\n",
    "            col += 1\n",
    "        row += 1\n",
    "        col = 0\n",
    "    else:\n",
    "        for value in dict_elements.values():\n",
    "            worksheet.write(row, col, value)\n",
    "            col += 1\n",
    "        row += 1\n",
    "        col = 0        \n",
    "    \n",
    "workbook.close()"
   ]
  },
  {
   "cell_type": "code",
   "execution_count": null,
   "metadata": {},
   "outputs": [],
   "source": []
  }
 ],
 "metadata": {
  "kernelspec": {
   "display_name": "Python 3",
   "language": "python",
   "name": "python3"
  },
  "language_info": {
   "codemirror_mode": {
    "name": "ipython",
    "version": 3
   },
   "file_extension": ".py",
   "mimetype": "text/x-python",
   "name": "python",
   "nbconvert_exporter": "python",
   "pygments_lexer": "ipython3",
   "version": "3.7.4"
  }
 },
 "nbformat": 4,
 "nbformat_minor": 2
}
